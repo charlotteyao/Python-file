{
 "cells": [
  {
   "cell_type": "markdown",
   "metadata": {},
   "source": [
    "# sklearn机器学习4步走\n",
    "1. import对应model，\n",
    "2. 初始化model\n",
    "3. 训练\n",
    "4. predict"
   ]
  },
  {
   "cell_type": "code",
   "execution_count": 4,
   "metadata": {},
   "outputs": [],
   "source": [
    "from sklearn import svm\n",
    "classifier=svm.SVC()\n",
    "classifier.fit(X_train,Y_train)\n",
    "Y_test=classifier.predict(X_test)"
   ]
  },
  {
   "cell_type": "markdown",
   "metadata": {},
   "source": [
    "# 确定model\n",
    "scikit-learn的核心概念：estimator(估计,预测)\n",
    "+ 直接初始化，不用输入数据\n",
    "+ 可指定参数"
   ]
  },
  {
   "cell_type": "code",
   "execution_count": 6,
   "metadata": {},
   "outputs": [],
   "source": [
    "from sklearn.neighbors import NearestNeighbors\n",
    "estimator = NearestNeighbors(n_neighbors = 2)"
   ]
  },
  {
   "cell_type": "markdown",
   "metadata": {},
   "source": [
    "# 训练模型\n",
    "使用数据对模型进行训练\n",
    "estimator.fit(X_train,Y_train)\n",
    "其中：\n",
    "+ X_train是numpy array，其维度为:n samples,n features\n",
    "\n",
    "+ Y_train是1维numpy array,维度为:n samples"
   ]
  },
  {
   "cell_type": "markdown",
   "metadata": {},
   "source": [
    "# 使用模型\n",
    "+ Prediction:classification,regression\n",
    "    \n",
    "    Y_test=estimator.predict(X_test)\n",
    "    \n",
    "    \n",
    "+ Transforming:dimension reduction,filter\n",
    "\n",
    "    X_new=estimator.transform(X_test)\n",
    "    \n",
    "    \n",
    "+ Test score,density estimation\n",
    "\n",
    "    test_score=estimator.score(Xtest,Ytest)"
   ]
  },
  {
   "cell_type": "markdown",
   "metadata": {},
   "source": [
    "# 有监督学习\n",
    "+ Decision tres(Random-Forest,Boosted Tree)\n",
    "+ Linear models\n",
    "+ SVN\n",
    "\n",
    "# 无监督学习\n",
    "+ Clustering\n",
    "+ Dictionary learning\n",
    "+ Outliter detection\n",
    "\n",
    "# 模型选择\n",
    "+ cross-validation\n",
    "+ Parameter optimazation\n"
   ]
  },
  {
   "cell_type": "code",
   "execution_count": null,
   "metadata": {
    "collapsed": true
   },
   "outputs": [],
   "source": []
  }
 ],
 "metadata": {
  "kernelspec": {
   "display_name": "Python 2",
   "language": "python",
   "name": "python2"
  },
  "language_info": {
   "codemirror_mode": {
    "name": "ipython",
    "version": 2
   },
   "file_extension": ".py",
   "mimetype": "text/x-python",
   "name": "python",
   "nbconvert_exporter": "python",
   "pygments_lexer": "ipython2",
   "version": "2.7.14"
  }
 },
 "nbformat": 4,
 "nbformat_minor": 2
}
