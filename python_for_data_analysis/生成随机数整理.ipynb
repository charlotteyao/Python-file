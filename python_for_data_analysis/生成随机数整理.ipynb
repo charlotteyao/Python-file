{
 "cells": [
  {
   "cell_type": "markdown",
   "metadata": {},
   "source": [
    "生成一个包含9行4列标准正态分布伪随机数的numpy.ndarray:"
   ]
  },
  {
   "cell_type": "code",
   "execution_count": 1,
   "metadata": {},
   "outputs": [
    {
     "data": {
      "text/plain": [
<<<<<<< HEAD
       "array([[  3.59839000e-01,   4.43609000e-01,   5.44442000e-01,\n",
       "          7.90200000e-01],\n",
       "       [  2.11101400e+00,   5.64891000e-01,  -1.39489500e+00,\n",
       "          1.17502300e+00],\n",
       "       [ -1.34987800e+00,   9.72569000e-01,  -1.18481000e+00,\n",
       "         -1.60198600e+00],\n",
       "       [  4.77016000e-01,   1.22571400e+00,  -1.65412000e-01,\n",
       "          2.29620000e+00],\n",
       "       [  1.76552000e-01,  -2.75704000e-01,  -1.09390600e+00,\n",
       "          9.27778000e-01],\n",
       "       [  1.98500000e-03,  -2.67542000e-01,  -5.10128000e-01,\n",
       "         -2.02299000e-01],\n",
       "       [ -1.30532600e+00,   2.25699900e+00,   6.79733000e-01,\n",
       "         -5.54344000e-01],\n",
       "       [ -1.47177400e+00,   9.17955000e-01,  -4.46294000e-01,\n",
       "          7.91732000e-01],\n",
       "       [  4.57285000e-01,   1.56007800e+00,  -1.49481900e+00,\n",
       "          1.41610500e+00]])"
=======
       "array([[-0.756901,  0.786688, -0.500439,  1.315346],\n",
       "       [-0.4826  , -0.986624, -1.979773, -1.129049],\n",
       "       [ 1.760802, -0.022032, -0.35772 , -0.702545],\n",
       "       [-1.110532, -1.797532,  1.740854, -0.134729],\n",
       "       [ 0.568117,  0.578142,  0.070278, -0.798705],\n",
       "       [-1.012142, -0.184568, -1.323122,  1.221727],\n",
       "       [ 0.449993,  0.316651, -0.715651, -0.247022],\n",
       "       [ 0.967068, -1.057563,  1.572578,  0.441563],\n",
       "       [ 1.204716,  0.510575,  0.04014 ,  0.199477]])"
>>>>>>> ebb4d448af503cc25c80da43267714d8954528b5
      ]
     },
     "execution_count": 1,
     "metadata": {},
     "output_type": "execute_result"
    }
   ],
   "source": [
    "import numpy as np\n",
    "a = np.random.standard_normal((9,4))\n",
    "a.round(6)"
   ]
  },
  {
   "cell_type": "code",
   "execution_count": 2,
   "metadata": {},
   "outputs": [
    {
     "data": {
      "text/plain": [
       "DatetimeIndex(['2015-01-31', '2015-02-28', '2015-03-31', '2015-04-30',\n",
       "               '2015-05-31', '2015-06-30', '2015-07-31', '2015-08-31',\n",
       "               '2015-09-30'],\n",
       "              dtype='datetime64[ns]', freq='M')"
      ]
     },
     "execution_count": 2,
     "metadata": {},
     "output_type": "execute_result"
    }
   ],
   "source": [
    "import pandas as pd\n",
    "dates = pd.date_range('2015-1-1',periods=9,freq='M')\n",
    "dates"
   ]
  },
  {
   "cell_type": "code",
<<<<<<< HEAD
   "execution_count": 4,
   "metadata": {},
   "outputs": [
    {
     "data": {
      "text/plain": [
       "2012-03-07 09:30:00   -1.855783\n",
       "2012-03-08 09:30:00    0.607407\n",
       "2012-03-09 09:30:00   -0.797519\n",
       "2012-03-12 09:30:00   -0.158971\n",
       "2012-03-13 09:30:00   -0.937342\n",
       "2012-03-14 09:30:00    0.807918\n",
       "2012-03-15 09:30:00   -0.859274\n",
       "2012-03-16 09:30:00    0.863727\n",
       "2012-03-19 09:30:00    2.118290\n",
       "2012-03-20 09:30:00    1.425948\n",
       "Freq: B, dtype: float64"
      ]
     },
     "execution_count": 4,
     "metadata": {},
     "output_type": "execute_result"
=======
   "execution_count": 2,
   "metadata": {},
   "outputs": [
    {
     "ename": "NameError",
     "evalue": "name 'np' is not defined",
     "output_type": "error",
     "traceback": [
      "\u001b[1;31m---------------------------------------------------------------------------\u001b[0m",
      "\u001b[1;31mNameError\u001b[0m                                 Traceback (most recent call last)",
      "\u001b[1;32m<ipython-input-2-26cc6c730c7d>\u001b[0m in \u001b[0;36m<module>\u001b[1;34m()\u001b[0m\n\u001b[0;32m      1\u001b[0m \u001b[1;32mimport\u001b[0m \u001b[0mpandas\u001b[0m \u001b[1;32mas\u001b[0m \u001b[0mpd\u001b[0m\u001b[1;33m\u001b[0m\u001b[0m\n\u001b[0;32m      2\u001b[0m \u001b[0mrng\u001b[0m \u001b[1;33m=\u001b[0m \u001b[0mpd\u001b[0m\u001b[1;33m.\u001b[0m\u001b[0mdate_range\u001b[0m\u001b[1;33m(\u001b[0m\u001b[1;34m'3/7/2012 9:30'\u001b[0m\u001b[1;33m,\u001b[0m\u001b[0mperiods\u001b[0m\u001b[1;33m=\u001b[0m\u001b[1;36m10\u001b[0m\u001b[1;33m,\u001b[0m\u001b[0mfreq\u001b[0m\u001b[1;33m=\u001b[0m\u001b[1;34m'B'\u001b[0m\u001b[1;33m)\u001b[0m\u001b[1;33m\u001b[0m\u001b[0m\n\u001b[1;32m----> 3\u001b[1;33m \u001b[0mts\u001b[0m\u001b[1;33m=\u001b[0m\u001b[0mpd\u001b[0m\u001b[1;33m.\u001b[0m\u001b[0mSeries\u001b[0m\u001b[1;33m(\u001b[0m\u001b[0mnp\u001b[0m\u001b[1;33m.\u001b[0m\u001b[0mrandom\u001b[0m\u001b[1;33m.\u001b[0m\u001b[0mrandn\u001b[0m\u001b[1;33m(\u001b[0m\u001b[0mlen\u001b[0m\u001b[1;33m(\u001b[0m\u001b[0mrng\u001b[0m\u001b[1;33m)\u001b[0m\u001b[1;33m)\u001b[0m\u001b[1;33m,\u001b[0m\u001b[0mindex\u001b[0m\u001b[1;33m=\u001b[0m\u001b[0mrng\u001b[0m\u001b[1;33m)\u001b[0m\u001b[1;33m\u001b[0m\u001b[0m\n\u001b[0m\u001b[0;32m      4\u001b[0m \u001b[0mts\u001b[0m\u001b[1;33m\u001b[0m\u001b[0m\n",
      "\u001b[1;31mNameError\u001b[0m: name 'np' is not defined"
     ]
>>>>>>> ebb4d448af503cc25c80da43267714d8954528b5
    }
   ],
   "source": [
    "import pandas as pd\n",
    "rng = pd.date_range('3/7/2012 9:30',periods=10,freq='B')\n",
    "ts=pd.Series(np.random.randn(len(rng)),index=rng)\n",
    "ts"
   ]
  },
  {
   "cell_type": "code",
<<<<<<< HEAD
   "execution_count": 6,
   "metadata": {},
   "outputs": [
    {
     "data": {
      "text/plain": [
       "array([[ 1.0387,  0.3097,  0.8434, -0.2959,  0.0295],\n",
       "       [-0.0152, -1.4311,  0.4622,  0.356 , -0.1401],\n",
       "       [-1.9863, -0.865 ,  1.2001, -0.0403,  0.1806],\n",
       "       ..., \n",
       "       [ 0.2933, -0.1214,  0.1356, -0.0842,  0.4463],\n",
       "       [-0.9302,  1.883 , -0.71  ,  1.2681,  0.393 ],\n",
       "       [-0.1018, -0.1909,  2.1078,  0.6071,  1.5143]])"
      ]
     },
     "execution_count": 6,
     "metadata": {},
     "output_type": "execute_result"
    }
   ],
   "source": [
    "rows = 5000\n",
    "a = np.random.standard_normal((rows,5))\n",
    "a.round(4)"
   ]
  },
  {
   "cell_type": "code",
   "execution_count": 9,
   "metadata": {},
   "outputs": [
    {
     "data": {
      "text/plain": [
       "array([ 1.6338,  2.2653,  3.2849, ...,  2.0897, -1.901 , -0.22  ])"
      ]
     },
     "execution_count": 9,
     "metadata": {},
     "output_type": "execute_result"
    }
   ],
   "source": [
    "import numpy as np\n",
    "from random import gauss\n",
    "a = [gauss(1.5,2) for i in range(1000000)]\n",
    "np.array(a).round(4)"
   ]
  },
  {
   "cell_type": "code",
=======
>>>>>>> ebb4d448af503cc25c80da43267714d8954528b5
   "execution_count": null,
   "metadata": {
    "collapsed": true
   },
   "outputs": [],
   "source": []
  }
 ],
 "metadata": {
  "kernelspec": {
   "display_name": "Python 2",
   "language": "python",
   "name": "python2"
<<<<<<< HEAD
  },
  "language_info": {
   "codemirror_mode": {
    "name": "ipython",
    "version": 2
   },
   "file_extension": ".py",
   "mimetype": "text/x-python",
   "name": "python",
   "nbconvert_exporter": "python",
   "pygments_lexer": "ipython2",
   "version": "2.7.14"
=======
>>>>>>> ebb4d448af503cc25c80da43267714d8954528b5
  }
 },
 "nbformat": 4,
 "nbformat_minor": 2
}
