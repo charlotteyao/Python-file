{
 "cells": [
  {
   "cell_type": "code",
   "execution_count": 6,
   "metadata": {},
   "outputs": [
    {
     "ename": "ImportError",
     "evalue": "cannot import name ipyparallel",
     "output_type": "error",
     "traceback": [
      "\u001b[1;31m---------------------------------------------------------------------------\u001b[0m",
      "\u001b[1;31mImportError\u001b[0m                               Traceback (most recent call last)",
      "\u001b[1;32m<ipython-input-6-6ed321973fbd>\u001b[0m in \u001b[0;36m<module>\u001b[1;34m()\u001b[0m\n\u001b[1;32m----> 1\u001b[1;33m \u001b[1;32mfrom\u001b[0m \u001b[0mIPython\u001b[0m\u001b[1;33m.\u001b[0m\u001b[0mparallel\u001b[0m \u001b[1;32mimport\u001b[0m \u001b[0mipyparallel\u001b[0m\u001b[1;33m\u001b[0m\u001b[0m\n\u001b[0m",
      "\u001b[1;31mImportError\u001b[0m: cannot import name ipyparallel"
     ]
    }
   ],
   "source": [
    "from IPython.parallel import ipyparallel"
   ]
  },
  {
   "cell_type": "code",
   "execution_count": 13,
   "metadata": {},
   "outputs": [],
   "source": [
    "import ipyparallel"
   ]
  },
  {
   "cell_type": "code",
   "execution_count": 12,
   "metadata": {},
   "outputs": [
    {
     "name": "stdout",
     "output_type": "stream",
     "text": [
      "Help on module IPython.core.release in IPython:\n",
      "\n",
      "NAME\n",
      "    IPython.core.release - Release data for the IPython project.\n",
      "\n",
      "FILE\n",
      "    c:\\programdata\\anaconda2\\lib\\site-packages\\ipython\\core\\release.py\n",
      "\n",
      "DATA\n",
      "    __version__ = '5.4.1'\n",
      "    author = 'The IPython Development Team'\n",
      "    author_email = 'ipython-dev@python.org'\n",
      "    authors = {'Brian': ('Brian E Granger', 'ellisonbg@gmail.com'), 'Ferna...\n",
      "    classifiers = ['Framework :: IPython', 'Intended Audience :: Developer...\n",
      "    codename = ''\n",
      "    description = 'IPython: Productive Interactive Computing'\n",
      "    kernel_protocol_version = '5.0'\n",
      "    kernel_protocol_version_info = (5, 0)\n",
      "    keywords = ['Interactive', 'Interpreter', 'Shell', 'Embedding']\n",
      "    license = 'BSD'\n",
      "    long_description = \"\\nIPython provides a rich toolkit to help you mak....\n",
      "    name = 'ipython'\n",
      "    platforms = ['Linux', 'Mac OSX', 'Windows']\n",
      "    url = 'https://ipython.org'\n",
      "    version = '5.4.1'\n",
      "    version_info = (5, 4, 1, '')\n",
      "\n",
      "VERSION\n",
      "    5.4.1\n",
      "\n",
      "\n"
     ]
    }
   ],
   "source": [
    "help(\"IPython.release\")"
   ]
  },
  {
   "cell_type": "code",
   "execution_count": null,
   "metadata": {
    "collapsed": true
   },
   "outputs": [],
   "source": []
  }
 ],
 "metadata": {
  "kernelspec": {
   "display_name": "Python 2",
   "language": "python",
   "name": "python2"
  },
  "language_info": {
   "codemirror_mode": {
    "name": "ipython",
    "version": 2
   },
   "file_extension": ".py",
   "mimetype": "text/x-python",
   "name": "python",
   "nbconvert_exporter": "python",
   "pygments_lexer": "ipython2",
   "version": "2.7.14"
  }
 },
 "nbformat": 4,
 "nbformat_minor": 2
}
