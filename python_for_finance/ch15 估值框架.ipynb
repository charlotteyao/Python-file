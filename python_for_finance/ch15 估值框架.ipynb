{
 "cells": [
  {
   "cell_type": "markdown",
   "metadata": {},
   "source": [
    "# ch15 估值框架\n",
    "## 15.1 资产定价基本定理\n",
    "资产定价基本定理是现代金融理论和数学的基石和成功案例之一。它的中心思想是鞅（Martingale）测度--也就是从折现后风险因素（随机过程）中消去漂移的概率测度。换言之，在鞅测度下，所有风险因素随无风险短期利率飘逸--而不包含某种无风险短期利率之上风险溢价的任何其他市场利率漂移。\n",
    "### 15.1.1 简单示例\n",
    "### 15.1.2 一般结果\n",
    "## 15.2 风险中立折现\n",
    "风险中立折现是风险中立估值方法的核心。因此，首先开发一个用于风险中立折现的**Python**类，但是首先仔细地观察一下估值**相关日期**的建模和处理时值得的。\n",
    "### 15.2.1 日期建模和处理\n",
    "折现的必要前提是建立日期模型。为了估值的目的，通常将当日和一般市场模型的最后日期T之间的间隔分为离散的时间间隔。这些时间间隔可以是同构的（等长），也可以是异构的（不等长）。估值库应该能够处理异构时间间隔的一般情况，因为更简单的情况会自动包含。因此，我们使用日期列表，假定最小的相关时间间隔为一天。这意味着，我们不关心日间事件--如果需要处理这些事件，就必须建立时间模型（除了日期之外）。\n",
    "\n",
    "为了编辑一个相关日期列表，基本上可以采用两种方法：构建一个离散的日期列表（例如**Python**中的**datetime.datetime**对象）或者年份数（十进制数字，就像理论工作中常常做的）。\n",
    "\n",
    "例如，下面的**dates**和**fraction**定义（大致）等价："
   ]
  },
  {
   "cell_type": "code",
   "execution_count": 1,
   "metadata": {
    "collapsed": true
   },
   "outputs": [],
   "source": [
    "import datetime as dt\n",
    "dates = [dt.datetime(2015,1,1),dt.datetime(2015,7,1),dt.datetime(2016,1,1)]"
   ]
  },
  {
   "cell_type": "code",
   "execution_count": 4,
   "metadata": {},
   "outputs": [
    {
     "data": {
      "text/plain": [
       "0.4958904109589041"
      ]
     },
     "execution_count": 4,
     "metadata": {},
     "output_type": "execute_result"
    }
   ],
   "source": [
    "(dates[1]-dates[0]).days/365."
   ]
  },
  {
   "cell_type": "code",
   "execution_count": 5,
   "metadata": {},
   "outputs": [
    {
     "data": {
      "text/plain": [
       "0.5041095890410959"
      ]
     },
     "execution_count": 5,
     "metadata": {},
     "output_type": "execute_result"
    }
   ],
   "source": [
    "(dates[2]-dates[1]).days/365."
   ]
  },
  {
   "cell_type": "code",
   "execution_count": 6,
   "metadata": {
    "collapsed": true
   },
   "outputs": [],
   "source": [
    "fractions=[0.0,0.5,1.0]"
   ]
  },
  {
   "cell_type": "markdown",
   "metadata": {},
   "source": [
    "它们只是大致等价，因为年份数很少处于某一天的开始（0点）。\n",
    "\n",
    "有时候，根据日期列表得出年份数是必要的，下例中介绍的**get_year_deltas**函数就是完成这项工作。"
   ]
  },
  {
   "cell_type": "code",
   "execution_count": 12,
   "metadata": {},
   "outputs": [],
   "source": [
    "  #\n",
    "  # 从datetime对象列表或者数组得出年份数的函数\n",
    "  # get_year_deltas.py \n",
    "  #\n",
    "import numpy as np\n",
    "def get_year_deltas(date_list,day_count=365.):\n",
    "    '''Return vector of floats with day deltas in years.\n",
    "    Initial value normalized to zero.\n",
    "    \n",
    "    Parameters\n",
    "    ===========\n",
    "    date_list : list or array\n",
    "        collection of datetime objects\n",
    "    day_count : float\n",
    "        number of days for a year\n",
    "    (to account for different conventions)\n",
    "Results\n",
    "=======\n",
    "delta_list : array\n",
    "    yaer fractions\n",
    "'''\n",
    "    \n",
    "    start = date_list[0]\n",
    "    delta_list = [(date-start).days/day_count for date in date_list]\n",
    "    return np.array(delta_list)"
   ]
  },
  {
   "cell_type": "markdown",
   "metadata": {},
   "source": [
    "这个函数的应用如下："
   ]
  },
  {
   "cell_type": "code",
   "execution_count": 10,
   "metadata": {},
   "outputs": [
    {
     "data": {
      "text/plain": [
       "array([ 0.        ,  0.49589041,  1.        ])"
      ]
     },
     "execution_count": 10,
     "metadata": {},
     "output_type": "execute_result"
    }
   ],
   "source": [
    "import datetime as dt\n",
    "dates = [dt.datetime(2015,1,1),dt.datetime(2015,7,1),dt.datetime(2016,1,1)]\n",
    "get_year_deltas(dates)"
   ]
  },
  {
   "cell_type": "markdown",
   "metadata": {},
   "source": [
    "### 15.2.2 固定短期利率\n",
    "我们将焦点放在短期利率折现最简单情况--也就是短期利率一直保持不变的情况。许多期权定价模型，如**Black-Scholes-Merton、Merton和Cox-Ross-Rubinstein**都做出这个假设。我们假定连续折现，因为这是期权定价应用中常见的假设。在这种情况下，给定未来日期t和固定短期利率r下，今天的一般折现因子可以由公式计算得出。\n",
    "\n",
    "折现因子也可以解释为分别在t和T到期的单位零息债券（ZCB）的当日价值。"
   ]
  },
  {
   "cell_type": "code",
   "execution_count": 29,
   "metadata": {},
   "outputs": [],
   "source": [
    "  # \n",
    "  # 固定短期利率下的风险中立折现类\n",
    "  #constant_short_rate.py\n",
    "  #\n",
    "#from get_year_deltas import *\n",
    "class constant_short_rate(object):\n",
    "    '''Class for constant short rate discounting.\n",
    "    \n",
    "    Attributes\n",
    "    ==========\n",
    "    name : string\n",
    "        name of the object\n",
    "    short_rate : float(positive)\n",
    "        constant rate for discounting\n",
    "        \n",
    "    Methods\n",
    "    =======\n",
    "get_discount_factors :\n",
    "    get discount factors given a list/array of datetime objects or year fractions\n",
    "'''\n",
    "    def __init__(self,name,short_rate):\n",
    "        self.name = name\n",
    "        self.short_rate=short_rate\n",
    "        if short_rate < 0:\n",
    "            raise ValueError('short rate negative')\n",
    "    \n",
    "    def get_discount_factors(self,date_list,dtobjects=True):\n",
    "        if dtobjects is True:\n",
    "            dlist = get_year_deltas(date_list)\n",
    "        else:\n",
    "            dlist = np.array(date_list)\n",
    "        dlish = np.exp(self.short_rate * np.sort(-dlist))\n",
    "        return np.array((date_list,dlist)).T"
   ]
  },
  {
   "cell_type": "markdown",
   "metadata": {},
   "source": [
    "**constant_short_rate**类的应用："
   ]
  },
  {
   "cell_type": "code",
   "execution_count": 30,
   "metadata": {},
   "outputs": [
    {
     "data": {
      "text/plain": [
       "array([[datetime.datetime(2015, 1, 1, 0, 0), 0.0],\n",
       "       [datetime.datetime(2015, 7, 1, 0, 0), 0.4958904109589041],\n",
       "       [datetime.datetime(2016, 1, 1, 0, 0), 1.0]], dtype=object)"
      ]
     },
     "execution_count": 30,
     "metadata": {},
     "output_type": "execute_result"
    }
   ],
   "source": [
    "import datetime as dt\n",
    "dates = [dt.datetime(2015,1,1),dt.datetime(2015,7,1),dt.datetime(2016,1,1)]\n",
    "#from constant_short_rate import *\n",
    "csr = constant_short_rate('csr',0.05)\n",
    "csr.get_discount_factors(dates)"
   ]
  },
  {
   "cell_type": "markdown",
   "metadata": {},
   "source": [
    "主要的结果是一个二维**ndarry**对象，包含成对的**datetime**对象和相关折现因子。该类（特别是对象csr）通常也能处理年份数："
   ]
  },
  {
   "cell_type": "code",
   "execution_count": 42,
   "metadata": {},
   "outputs": [
    {
     "data": {
      "text/plain": [
       "array([[ 0.        ,  0.        ],\n",
       "       [ 0.49589041,  0.49589041],\n",
       "       [ 1.        ,  1.        ]])"
      ]
     },
     "execution_count": 42,
     "metadata": {},
     "output_type": "execute_result"
    }
   ],
   "source": [
    "deltas = get_year_deltas(dates)\n",
    "csr.get_discount_factors(deltas,dtobjects=False)"
   ]
  },
  {
   "cell_type": "markdown",
   "metadata": {},
   "source": [
    "这个类负责其他类中需要的所有折现运算。"
   ]
  },
  {
   "cell_type": "markdown",
   "metadata": {},
   "source": [
    "## 15.3 市场环境\n",
    "市场环境“只是”其他数据和**Python**对象集合的一个名称。但是，使用这一抽象相当方便，因为它简化了许多操作，而且考虑到了循环特征的一致性建模。市场环境主要由3个字典组成，它们存储如下类型的数据和**Python**对象：\n",
    "\n",
    "*常量*\n",
    "    \n",
    "    例如模型参数或者期权到期日。\n",
    "*列表*\n",
    "    \n",
    "    一般是对象序列，例如用于建立（风险）证券模型对象的列表对象。\n",
    "*曲线*\n",
    "\n",
    "    用于折现的对象；例如，constant_short_rate类的实例。    "
   ]
  },
  {
   "cell_type": "code",
   "execution_count": 58,
   "metadata": {
    "collapsed": true
   },
   "outputs": [],
   "source": [
    "  #\n",
    "  #建立由常量、列表和曲线组成的市场环境模型的类\n",
    "  #market_environment.py\n",
    "  #\n",
    "class market_environment(object):\n",
    "    '''Class to model a market environment relevant for valuation.\n",
    "    \n",
    "    Attributes\n",
    "    ==========\n",
    "    name:string\n",
    "        name of the market environment\n",
    "    pricing_date : datetime object\n",
    "        date of the market environment\n",
    "    \n",
    "    Methods\n",
    "    =======\n",
    "    add_constant : \n",
    "        adds a constant(e.g. momdel parameter)\n",
    "    get_constant :\n",
    "        gets a constant\n",
    "    add_list :\n",
    "        adds a list(e.g. underlyings)\n",
    "    get_list :\n",
    "        gets a list\n",
    "    add_curve : \n",
    "        adds a market curve(e.g. yield curve)\n",
    "    get_curve :\n",
    "        gets a market curve\n",
    "    add_environment :\n",
    "        adds and overwrites whole market environments\n",
    "        with constants,lists,and curves\n",
    "    '''\n",
    "    \n",
    "    def __init__(self,name,pricing_date):\n",
    "        self.name = name\n",
    "        self.pricing_date = pricing_date\n",
    "        self.constants = {}\n",
    "        self.lists = {}\n",
    "        self.curves = {}\n",
    "        \n",
    "    def add_constant(self,key,constant):\n",
    "        self.constants[key] = constant\n",
    "        \n",
    "    def get_constant(self,key):\n",
    "        return self.constants[key]\n",
    "    \n",
    "    def add_list(self,key,list_object):\n",
    "        self.lists[key] = list_object\n",
    "        \n",
    "    def get_list(self,key):\n",
    "        return self.lists[key]\n",
    "    \n",
    "    def add_curve(self,key,curve):\n",
    "        self.curves[key] = curve\n",
    "        \n",
    "    def get_curve(self,key):\n",
    "        return self.curves[key]\n",
    "    \n",
    "    def add_environment(self,env):\n",
    "        # overwrites existing values,if they exist\n",
    "        for key in env.constants:\n",
    "            self.constants[key] = env.constants[key]\n",
    "        for key in env.lists:\n",
    "            self.lists[key] = env.lists[key]\n",
    "        for key in env.curves:\n",
    "            self.curves[key] = env.curves[key]"
   ]
  },
  {
   "cell_type": "markdown",
   "metadata": {},
   "source": [
    "**market_environment**类的应用："
   ]
  },
  {
   "cell_type": "code",
   "execution_count": 59,
   "metadata": {},
   "outputs": [
    {
     "data": {
      "text/plain": [
       "['AAPL', 'MSFT', 'FB']"
      ]
     },
     "execution_count": 59,
     "metadata": {},
     "output_type": "execute_result"
    }
   ],
   "source": [
    "# from market_environment import *\n",
    "import datetime as dt\n",
    "dates = [dt.datetime(2015,1,1),dt.datetime(2015,7,1),dt.datetime(2016,1,1)]\n",
    "csr = constant_short_rate('csr',0.05)\n",
    "me_1 = market_environment('me_1',dt.datetime(2015,1,1))\n",
    "me_1.add_list('symbols',['AAPL','MSFT','FB'])\n",
    "me_1.get_list('symbols')"
   ]
  },
  {
   "cell_type": "code",
   "execution_count": 60,
   "metadata": {},
   "outputs": [
    {
     "data": {
      "text/plain": [
       "<__main__.constant_short_rate at 0x87f96a0>"
      ]
     },
     "execution_count": 60,
     "metadata": {},
     "output_type": "execute_result"
    }
   ],
   "source": [
    "me_2 = market_environment('me_2',dt.datetime(2015,1,1))\n",
    "me_2.add_constant('volatility',0.2)\n",
    "me_2.add_curve('short_rate',csr)\n",
    "me_2.get_curve('short_rate')"
   ]
  },
  {
   "cell_type": "code",
   "execution_count": 61,
   "metadata": {
    "collapsed": true
   },
   "outputs": [],
   "source": [
    "me_1.add_environment(me_2)"
   ]
  },
  {
   "cell_type": "code",
   "execution_count": 62,
   "metadata": {},
   "outputs": [
    {
     "data": {
      "text/plain": [
       "<__main__.constant_short_rate at 0x87f96a0>"
      ]
     },
     "execution_count": 62,
     "metadata": {},
     "output_type": "execute_result"
    }
   ],
   "source": [
    "me_1.get_curve('short_rate')"
   ]
  },
  {
   "cell_type": "code",
   "execution_count": 63,
   "metadata": {},
   "outputs": [
    {
     "data": {
      "text/plain": [
       "{'volatility': 0.2}"
      ]
     },
     "execution_count": 63,
     "metadata": {},
     "output_type": "execute_result"
    }
   ],
   "source": [
    "me_1.constants"
   ]
  },
  {
   "cell_type": "code",
   "execution_count": 64,
   "metadata": {},
   "outputs": [
    {
     "data": {
      "text/plain": [
       "{'symbols': ['AAPL', 'MSFT', 'FB']}"
      ]
     },
     "execution_count": 64,
     "metadata": {},
     "output_type": "execute_result"
    }
   ],
   "source": [
    "me_1.lists"
   ]
  },
  {
   "cell_type": "code",
   "execution_count": 65,
   "metadata": {},
   "outputs": [
    {
     "data": {
      "text/plain": [
       "{'short_rate': <__main__.constant_short_rate at 0x87f96a0>}"
      ]
     },
     "execution_count": 65,
     "metadata": {},
     "output_type": "execute_result"
    }
   ],
   "source": [
    "me_1.curves"
   ]
  },
  {
   "cell_type": "code",
   "execution_count": 66,
   "metadata": {},
   "outputs": [
    {
     "data": {
      "text/plain": [
       "0.05"
      ]
     },
     "execution_count": 66,
     "metadata": {},
     "output_type": "execute_result"
    }
   ],
   "source": [
    "me_1.get_curve('short_rate').short_rate"
   ]
  },
  {
   "cell_type": "markdown",
   "metadata": {},
   "source": [
    "以上例子说明了对这个相当通用的“存储”类的基本处理。对于实用的应用程序，首先收集市场数据和其他数据以及**Python**对象，然后实例化**market_environment**对象并填入相关数据及对象。在这一步中，就可以将其交付给需要保存在对应**market_environment**中数据对象的其他类。\n",
    "\n",
    "例如，这种面向对象建模方法的重大优势之一是，**constant_short_rate**类的实例可以存在于多个环境中。一旦实例被更新--例如，设置新的固定短期利率时--包含这个特殊折现类的所有**market_environment**实例都将被自动更新。\n",
    "## 15.4 结语\n",
    "本章为构建**Python**库，通过蒙特卡洛模拟估算期权和其他衍生品价值的较大项目提供一个框架。本章介绍资产定价基本定理，用相当简单的数值化示例加以阐述。在这一点上，为离散的一般市场模型提供了重要成果。\n",
    "\n",
    "本章还为风险中立折现开发了一个**Python**类，以数值形式运用了资产定价基本定理的机制。根据**Python datetime**对象列表或者表示年份数的浮点对象，**constant_short_rate**类的实例提供对应的折现因子（单位零息债券的现值）。\n",
    "\n",
    "本章的最后介绍了相当通用的**market_environment**类，该类集合了建模、模拟、估值和其他目的的相关数据和**Python**对象。\n",
    "\n",
    "为了简化未来的导入工作，我们将使用一个包装器模块**dx_frame.py**："
   ]
  },
  {
   "cell_type": "raw",
   "metadata": {},
   "source": [
    "  #\n",
    "  # DX Library Frame\n",
    "  # dx_frame.py\n",
    "  #\n",
    "import datetime as dt\n",
    "\n",
    "from get_year_deltas import get_year_deltas\n",
    "from constant_short_rate import constant_short_rate\n",
    "from market_environment import market_environment"
   ]
  },
  {
   "cell_type": "markdown",
   "metadata": {},
   "source": [
    "下面的一条**import**语句可以在一步中使所有框架组件可用：\n",
    "    \n",
    "    from dx_frame import *\n",
    "\n",
    "对于**Python**库和模块套件，还有一个选择是将所有相关**Python**模块保存在一个（子）目录，并在该目录中放入一个特殊的init文件进行所有导入工作。例如，将所有模块保存在dx子目录下："
   ]
  },
  {
   "cell_type": "raw",
   "metadata": {},
   "source": [
    "  #\n",
    "  # DX Library\n",
    "  # packaging file\n",
    "  # __init__.py\n",
    "  #\n",
    "import datetime as dt\n",
    "\n",
    "from get_year_deltas import get_year_deltas\n",
    "from constant_short_rate import constant_short_rate\n",
    "from market_environment import market_environment"
   ]
  },
  {
   "cell_type": "markdown",
   "metadata": {},
   "source": [
    "在这种情况下，只要使用目录名就可以一次完成所有导入：\n",
    "\n",
    "    from dx import *\n",
    "也可以通过另一种方法：\n",
    "\n",
    "    import dx\n",
    "## 15.5 延伸阅读"
   ]
  },
  {
   "cell_type": "code",
   "execution_count": null,
   "metadata": {
    "collapsed": true
   },
   "outputs": [],
   "source": []
  }
 ],
 "metadata": {
  "kernelspec": {
   "display_name": "Python 2",
   "language": "python",
   "name": "python2"
  },
  "language_info": {
   "codemirror_mode": {
    "name": "ipython",
    "version": 2
   },
   "file_extension": ".py",
   "mimetype": "text/x-python",
   "name": "python",
   "nbconvert_exporter": "python",
   "pygments_lexer": "ipython2",
   "version": "2.7.14"
  }
 },
 "nbformat": 4,
 "nbformat_minor": 2
}
