{
 "cells": [
  {
   "cell_type": "code",
   "execution_count": 1,
   "metadata": {},
   "outputs": [],
   "source": [
    "import pandas as pd"
   ]
  },
  {
   "cell_type": "code",
   "execution_count": 8,
   "metadata": {
    "scrolled": true
   },
   "outputs": [
    {
     "name": "stdout",
     "output_type": "stream",
     "text": [
      "Help on method pivot_table in module pandas.core.reshape.pivot:\n",
      "\n",
      "pivot_table(data, values=None, index=None, columns=None, aggfunc='mean', fill_value=None, margins=False, dropna=True, margins_name='All') unbound pandas.core.frame.DataFrame method\n",
      "    Create a spreadsheet-style pivot table as a DataFrame. The levels in the\n",
      "    pivot table will be stored in MultiIndex objects (hierarchical indexes) on\n",
      "    the index and columns of the result DataFrame\n",
      "    \n",
      "    Parameters\n",
      "    ----------\n",
      "    data : DataFrame\n",
      "    values : column to aggregate, optional\n",
      "    index : column, Grouper, array, or list of the previous\n",
      "        If an array is passed, it must be the same length as the data. The list\n",
      "        can contain any of the other types (except list).\n",
      "        Keys to group by on the pivot table index.  If an array is passed, it\n",
      "        is being used as the same manner as column values.\n",
      "    columns : column, Grouper, array, or list of the previous\n",
      "        If an array is passed, it must be the same length as the data. The list\n",
      "        can contain any of the other types (except list).\n",
      "        Keys to group by on the pivot table column.  If an array is passed, it\n",
      "        is being used as the same manner as column values.\n",
      "    aggfunc : function or list of functions, default numpy.mean\n",
      "        If list of functions passed, the resulting pivot table will have\n",
      "        hierarchical columns whose top level are the function names (inferred\n",
      "        from the function objects themselves)\n",
      "    fill_value : scalar, default None\n",
      "        Value to replace missing values with\n",
      "    margins : boolean, default False\n",
      "        Add all row / columns (e.g. for subtotal / grand totals)\n",
      "    dropna : boolean, default True\n",
      "        Do not include columns whose entries are all NaN\n",
      "    margins_name : string, default 'All'\n",
      "        Name of the row / column that will contain the totals\n",
      "        when margins is True.\n",
      "    \n",
      "    Examples\n",
      "    --------\n",
      "    >>> df\n",
      "       A   B   C      D\n",
      "    0  foo one small  1\n",
      "    1  foo one large  2\n",
      "    2  foo one large  2\n",
      "    3  foo two small  3\n",
      "    4  foo two small  3\n",
      "    5  bar one large  4\n",
      "    6  bar one small  5\n",
      "    7  bar two small  6\n",
      "    8  bar two large  7\n",
      "    \n",
      "    >>> table = pivot_table(df, values='D', index=['A', 'B'],\n",
      "    ...                     columns=['C'], aggfunc=np.sum)\n",
      "    >>> table\n",
      "              small  large\n",
      "    foo  one  1      4\n",
      "         two  6      NaN\n",
      "    bar  one  5      4\n",
      "         two  6      7\n",
      "    \n",
      "    Returns\n",
      "    -------\n",
      "    table : DataFrame\n",
      "    \n",
      "    See also\n",
      "    --------\n",
      "    DataFrame.pivot : pivot without aggregation that can handle\n",
      "        non-numeric data\n",
      "\n"
     ]
    }
   ],
   "source": [
    "help(pd.DataFrame.pivot_table)"
   ]
  },
  {
   "cell_type": "code",
   "execution_count": 33,
   "metadata": {},
   "outputs": [
    {
     "name": "stdout",
     "output_type": "stream",
     "text": [
      "[10, 8, 7, 6, 3]\n"
     ]
    }
   ],
   "source": [
    "import random\n",
    "list = [1, 2, 3, 4, 5, 6, 7, 8, 9, 10] \n",
    "slice = random.sample(list, 5)  #从list中随机获取5个元素，作为一个片断返回\n",
    "print slice"
   ]
  },
  {
   "cell_type": "code",
   "execution_count": 34,
   "metadata": {},
   "outputs": [
    {
     "name": "stdout",
     "output_type": "stream",
     "text": [
      "[1, 2, 3, 4, 5, 6, 7, 8, 9, 10]\n"
     ]
    }
   ],
   "source": [
    "print list"
   ]
  },
  {
   "cell_type": "code",
   "execution_count": 40,
   "metadata": {},
   "outputs": [
    {
     "data": {
      "image/png": "[encoded data removed]",
      "text/plain": [
       "<matplotlib.figure.Figure at 0xa9a06a0>"
      ]
     },
     "metadata": {},
     "output_type": "display_data"
    }
   ],
   "source": [
    "import numpy as np\n",
    "import matplotlib.pyplot as plt\n",
    "%matplotlib inline\n",
    "mu = 1  #期望为1\n",
    "sigma = 3  #标准差为3\n",
    "num = 10000  #个数为10000\n",
    "rand_data = np.random.normal(mu, sigma, num)\n",
    "count, bins, ignored = plt.hist(rand_data, 30, normed=True)\n",
    "plt.plot(bins,1/(sigma*np.sqrt(2*np.pi))*np.exp(-(bins-mu)**2/(2 * sigma**2)),\n",
    "         linewidth=2, color='r')\n",
    "plt.show()"
   ]
  },
  {
   "cell_type": "code",
   "execution_count": 51,
   "metadata": {},
   "outputs": [
    {
     "data": {
      "image/png": "[encoded data removed]",
      "text/plain": [
       "<matplotlib.figure.Figure at 0xcaba0f0>"
      ]
     },
     "metadata": {},
     "output_type": "display_data"
    }
   ],
   "source": [
    "import numpy as np\n",
    "import matplotlib.pyplot as plt\n",
    "%matplotlib inline\n",
    "num = 10000  #个数为10000\n",
    "rand_data = np.random.standard_normal(num)\n",
    "count, bins, ignored = plt.hist(rand_data, 30, normed=True)\n",
    "plt.plot(bins,1/(np.sqrt(2*np.pi))*np.exp(-(bins)**2/2),\n",
    "         linewidth=2, color='r')\n",
    "plt.show()"
   ]
  },
  {
   "cell_type": "code",
   "execution_count": 55,
   "metadata": {},
   "outputs": [
    {
     "name": "stdout",
     "output_type": "stream",
     "text": [
      "[[2 8 4 6]\n",
      " [7 8 2 6]\n",
      " [7 1 7 7]]\n",
      "[[7 8 2 6]\n",
      " [2 8 4 6]\n",
      " [7 1 7 7]]\n"
     ]
    }
   ],
   "source": [
    "import numpy as np\n",
    "rand_data = np.random.randint(1, 10, (3, 4))\n",
    "print(rand_data)\n",
    "np.random.shuffle(rand_data)# 打乱行（交换行）\n",
    "print(rand_data)"
   ]
  },
  {
   "cell_type": "code",
   "execution_count": 53,
   "metadata": {},
   "outputs": [
    {
     "data": {
      "text/plain": [
       "array([-3.5166655 , -3.2540229 , -2.99138029, -2.72873769, -2.46609509,\n",
       "       -2.20345249, -1.94080989, -1.67816729, -1.41552468, -1.15288208,\n",
       "       -0.89023948, -0.62759688, -0.36495428, -0.10231168,  0.16033093,\n",
       "        0.42297353,  0.68561613,  0.94825873,  1.21090133,  1.47354393,\n",
       "        1.73618654,  1.99882914,  2.26147174,  2.52411434,  2.78675694,\n",
       "        3.04939954,  3.31204214,  3.57468475,  3.83732735,  4.09996995,\n",
       "        4.36261255])"
      ]
     },
     "execution_count": 53,
     "metadata": {},
     "output_type": "execute_result"
    }
   ],
   "source": [
    "bins"
   ]
  },
  {
   "cell_type": "code",
   "execution_count": 54,
   "metadata": {},
   "outputs": [
    {
     "data": {
      "text/plain": [
       "<a list of 30 Patch objects>"
      ]
     },
     "execution_count": 54,
     "metadata": {},
     "output_type": "execute_result"
    }
   ],
   "source": [
    "ignored"
   ]
  },
  {
   "cell_type": "code",
   "execution_count": null,
   "metadata": {
    "collapsed": true
   },
   "outputs": [],
   "source": []
  }
 ],
 "metadata": {
  "kernelspec": {
   "display_name": "Python 2",
   "language": "python",
   "name": "python2"
  },
  "language_info": {
   "codemirror_mode": {
    "name": "ipython",
    "version": 2
   },
   "file_extension": ".py",
   "mimetype": "text/x-python",
   "name": "python",
   "nbconvert_exporter": "python",
   "pygments_lexer": "ipython2",
   "version": "2.7.14"
  }
 },
 "nbformat": 4,
 "nbformat_minor": 2
}
