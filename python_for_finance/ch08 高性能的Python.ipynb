{
 "cells": [
  {
   "cell_type": "markdown",
   "metadata": {},
   "source": [
    "# ch08 高性能的Python\n",
    "对于性能关键应用，总是检查两件事：\n",
    "+ 使用的是正确的*实现范型*吗？\n",
    "+ 使用的是正确的*高性能库*吗？\n",
    "\n",
    "许多高性能库可以用于加速Python代码的执行，介绍如下实用的库：\n",
    "+ Cython，用于合并Python和C语言静态编译范型；\n",
    "+ IPython.parallel，用于在本地或者在群集上并行执行代码/函数；\n",
    "+ numexpr，用于快速数值运算；\n",
    "+ multiprocessing，Python内建的（本地）并行处理模块；\n",
    "+ Numba，用于为CPU动态编译Python代码；\n",
    "+ NumbaPro，用于为多核CPU和GPU动态编译Python代码。\n",
    "\n",
    "为方便比较相同算法的不同实现，定义一个方便的函数，可以系统地比较在相同或者不同的数据集上执行不同函数的性能："
   ]
  },
  {
   "cell_type": "code",
   "execution_count": 41,
   "metadata": {
    "collapsed": true
   },
   "outputs": [],
   "source": [
    "def perf_comp_data(func_list,data_list,rep=3,number=1):\n",
    "    '''Function to compare the performance of different functions.\n",
    "    \n",
    "    Parameters\n",
    "    ==========\n",
    "    func_list : list\n",
    "        list with function names as strings\n",
    "    data_list : list\n",
    "        list with data set names as strings\n",
    "    rep : int\n",
    "        number of repetitions of the whole comparison\n",
    "    number : int\n",
    "        number of executions for every function\n",
    "    '''\n",
    "    from timeit import repeat\n",
    "    res_list = {}\n",
    "    for name in enumerate(func_list):\n",
    "        stmt = name[1] + '(' +data_list[name[0]] + ')'\n",
    "        setup = \"from __main__ import \" + name[1] + ', ' + data_list[name[0]]\n",
    "        results = repeat(stmt = stmt,setup = setup,\n",
    "                        repeat = rep,number = number)\n",
    "        res_list[name[1]] = sum(results)/rep\n",
    "    res_sort = sorted(res_list.iteritems(),\n",
    "                     key=lambda(k,v):(v,k))\n",
    "    for item in res_sort:\n",
    "        rel = item[1]/res_sort[0][1]\n",
    "        print 'function: '+item[0]+',av.time sec:%9.5f, '%item[1]+'relative: %6.1f'%rel"
   ]
  },
  {
   "cell_type": "markdown",
   "metadata": {},
   "source": [
    "## 8.1 Python范型与性能\n",
    "在金融学中与其它科学及数据密集学科一样，大数据集上的数值计算相当费时，举例，在包含50万个数值的数组上求取某个复杂数学表达式的值："
   ]
  },
  {
   "cell_type": "code",
   "execution_count": 2,
   "metadata": {
    "collapsed": true
   },
   "outputs": [],
   "source": [
    "from math import *\n",
    "def f(x):\n",
    "    return abs(cos(x))**0.5+sin(2+3*x)"
   ]
  },
  {
   "cell_type": "code",
   "execution_count": 4,
   "metadata": {
    "collapsed": true
   },
   "outputs": [],
   "source": [
    "I = 500000\n",
    "a_py = range(I)"
   ]
  },
  {
   "cell_type": "code",
   "execution_count": 21,
   "metadata": {
    "collapsed": true
   },
   "outputs": [],
   "source": [
    "# 包含显示循环的标准Python函数\n",
    "def f1(a):\n",
    "    res = []\n",
    "    for x in a:\n",
    "        res.append(f(x))\n",
    "    return res"
   ]
  },
  {
   "cell_type": "code",
   "execution_count": 22,
   "metadata": {
    "collapsed": true
   },
   "outputs": [],
   "source": [
    "# 包含隐含循环的迭代子方法\n",
    "def f2(a):\n",
    "    return [f(x) for x in a]"
   ]
  },
  {
   "cell_type": "code",
   "execution_count": 23,
   "metadata": {
    "collapsed": true
   },
   "outputs": [],
   "source": [
    "# 包含隐含循环、使用eval的迭代子方法\n",
    "def f3(a):\n",
    "    ex = 'abs(cos(x))**0.5+sin(2+3*x)'\n",
    "    return [eval(ex) for x in a]"
   ]
  },
  {
   "cell_type": "code",
   "execution_count": 24,
   "metadata": {
    "collapsed": true
   },
   "outputs": [],
   "source": [
    "# Numpy向量化实现\n",
    "import numpy as np\n",
    "a_np = np.arange(I)\n",
    "def f4(a):\n",
    "    return(np.abs(np.cos(a))**0.5+np.sin(2+3*a))"
   ]
  },
  {
   "cell_type": "code",
   "execution_count": 25,
   "metadata": {
    "collapsed": true
   },
   "outputs": [],
   "source": [
    "# numexpr单线程实现\n",
    "import numexpr as ne\n",
    "def f5(a): # 单线程\n",
    "    ex = 'abs(cos(a))**0.5+sin(2+3*a)'\n",
    "    ne.set_num_threads(1)\n",
    "    return ne.evaluate(ex)"
   ]
  },
  {
   "cell_type": "code",
   "execution_count": 26,
   "metadata": {
    "collapsed": true
   },
   "outputs": [],
   "source": [
    "# numexpr多线程实现\n",
    "def f6(a): # 多线程\n",
    "    ex = 'abs(cos(a))**0.5+sin(2+3*a)'\n",
    "    ne.set_num_threads(16)\n",
    "    return ne.evaluate(ex)"
   ]
  },
  {
   "cell_type": "code",
   "execution_count": 37,
   "metadata": {},
   "outputs": [
    {
     "name": "stdout",
     "output_type": "stream",
     "text": [
      "1 loop, best of 3: 17.4 s per loop\n"
     ]
    }
   ],
   "source": [
    "%%timeit # 记录总执行时间\n",
    "r1 = f1(a_py)\n",
    "r2 = f2(a_py)\n",
    "r3 = f3(a_py)\n",
    "r4 = f4(a_np)\n",
    "r5 = f5(a_np)\n",
    "r6 = f6(a_np)"
   ]
  },
  {
   "cell_type": "code",
   "execution_count": 32,
   "metadata": {},
   "outputs": [
    {
     "data": {
      "text/plain": [
       "True"
      ]
     },
     "execution_count": 32,
     "metadata": {},
     "output_type": "execute_result"
    }
   ],
   "source": [
    "# Numpy函数的allclose可以检查两个（类）ndarray对象是否包含相同数据：\n",
    "np.allclose(r1,r2)"
   ]
  },
  {
   "cell_type": "code",
   "execution_count": 33,
   "metadata": {},
   "outputs": [
    {
     "data": {
      "text/plain": [
       "True"
      ]
     },
     "execution_count": 33,
     "metadata": {},
     "output_type": "execute_result"
    }
   ],
   "source": [
    "np.allclose(r1,r3)"
   ]
  },
  {
   "cell_type": "code",
   "execution_count": 34,
   "metadata": {},
   "outputs": [
    {
     "data": {
      "text/plain": [
       "True"
      ]
     },
     "execution_count": 34,
     "metadata": {},
     "output_type": "execute_result"
    }
   ],
   "source": [
    "np.allclose(r1,r4)"
   ]
  },
  {
   "cell_type": "code",
   "execution_count": 35,
   "metadata": {},
   "outputs": [
    {
     "data": {
      "text/plain": [
       "True"
      ]
     },
     "execution_count": 35,
     "metadata": {},
     "output_type": "execute_result"
    }
   ],
   "source": [
    "np.allclose(r1,r5)"
   ]
  },
  {
   "cell_type": "code",
   "execution_count": 36,
   "metadata": {},
   "outputs": [
    {
     "data": {
      "text/plain": [
       "True"
      ]
     },
     "execution_count": 36,
     "metadata": {},
     "output_type": "execute_result"
    }
   ],
   "source": [
    "np.allclose(r1,r6)"
   ]
  },
  {
   "cell_type": "markdown",
   "metadata": {},
   "source": [
    "使用自定义的**perf_comp_data**函数，向其提供所有函数和数据集名称："
   ]
  },
  {
   "cell_type": "code",
   "execution_count": 43,
   "metadata": {},
   "outputs": [
    {
     "name": "stdout",
     "output_type": "stream",
     "text": [
      "function: f6,av.time sec:  0.02252, relative:    1.0\n",
      "function: f4,av.time sec:  0.07497, relative:    3.3\n",
      "function: f5,av.time sec:  0.08881, relative:    3.9\n",
      "function: f2,av.time sec:  0.65218, relative:   29.0\n",
      "function: f1,av.time sec:  0.69924, relative:   31.0\n",
      "function: f3,av.time sec: 15.92267, relative:  706.9\n"
     ]
    }
   ],
   "source": [
    "func_list = ['f1','f2','f3','f4','f5','f6']\n",
    "data_list = ['a_py','a_py','a_py','a_np','a_np','a_np']\n",
    "perf_comp_data(func_list,data_list)"
   ]
  },
  {
   "cell_type": "markdown",
   "metadata": {
    "collapsed": true
   },
   "source": [
    "## 8.2 内存布局与性能\n",
    "**Numpy**可以为每个ndarray对象指定所谓的dtype；例如，np.int32或者f8。**Numpy**还允许在初始化ndarray对象时从两种不同的内存布局中选择。根据对象结构，某种布局可能比另一种布局更有优势。下例："
   ]
  },
  {
   "cell_type": "code",
   "execution_count": 44,
   "metadata": {},
   "outputs": [
    {
     "data": {
      "text/plain": [
       "array([[ 0.,  0.,  0.],\n",
       "       [ 0.,  0.,  0.],\n",
       "       [ 0.,  0.,  0.]])"
      ]
     },
     "execution_count": 44,
     "metadata": {},
     "output_type": "execute_result"
    }
   ],
   "source": [
    "import numpy as np\n",
    "np.zeros((3,3),dtype = np.float64,order='C')"
   ]
  },
  {
   "cell_type": "markdown",
   "metadata": {},
   "source": [
    "初始化**Numpy ndarray**对象的方式可能（根据数组的大小）对这些数组的操作性能产生显著的影响。下面介绍**ndarray**对象的初始化（例如通过**np.zeros**或者**np.array**）输入参数：\n",
    "\n",
    "*组成（shape）*\n",
    "\n",
    "    整数（int）、整数序列或者引用另一个numpy.ndarray\n",
    "*dtype（可选*\n",
    "\n",
    "    numpy.dtype--用于numpy.ndarray对象的Numpy特定的数据类型\n",
    "*顺序（可选）*\n",
    "\n",
    "    元素在内存中存储的顺序：C表示类似C（行优先），F表示类似Fortran（列优先）"
   ]
  },
  {
   "cell_type": "code",
   "execution_count": 45,
   "metadata": {
    "collapsed": true
   },
   "outputs": [],
   "source": [
    "c = np.array([[1.,1.,1.],\n",
    "            [2.,2.,2.],\n",
    "            [3.,3.,3.]],order='C')"
   ]
  },
  {
   "cell_type": "code",
   "execution_count": 46,
   "metadata": {
    "collapsed": true
   },
   "outputs": [],
   "source": [
    "f = np.array([[1.,1.,1.],\n",
    "            [2.,2.,2.],\n",
    "            [3.,3.,3.]],order='F')"
   ]
  },
  {
   "cell_type": "code",
   "execution_count": 47,
   "metadata": {
    "collapsed": true
   },
   "outputs": [],
   "source": [
    "x = np.random.standard_normal((3,1500000))\n",
    "C = np.array(x,order='C')\n",
    "F = np.array(x,order='F')\n",
    "x = 0.0"
   ]
  },
  {
   "cell_type": "code",
   "execution_count": 48,
   "metadata": {},
   "outputs": [
    {
     "name": "stdout",
     "output_type": "stream",
     "text": [
      "100 loops, best of 3: 16.1 ms per loop\n"
     ]
    }
   ],
   "source": [
    "#在类C布局的数组上实施某些标准操作，首先计算总和\n",
    "%timeit C.sum(axis=0)"
   ]
  },
  {
   "cell_type": "code",
   "execution_count": 49,
   "metadata": {},
   "outputs": [
    {
     "name": "stdout",
     "output_type": "stream",
     "text": [
      "100 loops, best of 3: 9.14 ms per loop\n"
     ]
    }
   ],
   "source": [
    "%timeit C.sum(axis=1)"
   ]
  },
  {
   "cell_type": "code",
   "execution_count": 50,
   "metadata": {},
   "outputs": [
    {
     "name": "stdout",
     "output_type": "stream",
     "text": [
      "10 loops, best of 3: 74.2 ms per loop\n"
     ]
    }
   ],
   "source": [
    "#在第一轴上计算总和比第二个轴慢了将近一倍，计算标准差类似：\n",
    "%timeit C.std(axis=0)"
   ]
  },
  {
   "cell_type": "code",
   "execution_count": 51,
   "metadata": {},
   "outputs": [
    {
     "name": "stdout",
     "output_type": "stream",
     "text": [
      "10 loops, best of 3: 47.3 ms per loop\n"
     ]
    }
   ],
   "source": [
    "%timeit C.std(axis=1)"
   ]
  },
  {
   "cell_type": "code",
   "execution_count": 52,
   "metadata": {},
   "outputs": [
    {
     "name": "stdout",
     "output_type": "stream",
     "text": [
      "10 loops, best of 3: 46.4 ms per loop\n"
     ]
    }
   ],
   "source": [
    "#在类F布局的数组上实施某些标准操作，首先计算总和\n",
    "%timeit F.sum(axis=0)"
   ]
  },
  {
   "cell_type": "code",
   "execution_count": 53,
   "metadata": {},
   "outputs": [
    {
     "name": "stdout",
     "output_type": "stream",
     "text": [
      "10 loops, best of 3: 52.7 ms per loop\n"
     ]
    }
   ],
   "source": [
    "%timeit F.sum(axis=1)"
   ]
  },
  {
   "cell_type": "code",
   "execution_count": 54,
   "metadata": {},
   "outputs": [
    {
     "name": "stdout",
     "output_type": "stream",
     "text": [
      "10 loops, best of 3: 177 ms per loop\n"
     ]
    }
   ],
   "source": [
    "%timeit F.std(axis=0)"
   ]
  },
  {
   "cell_type": "code",
   "execution_count": 55,
   "metadata": {},
   "outputs": [
    {
     "name": "stdout",
     "output_type": "stream",
     "text": [
      "10 loops, best of 3: 166 ms per loop\n"
     ]
    }
   ],
   "source": [
    "%timeit F.std(axis=1)"
   ]
  },
  {
   "cell_type": "markdown",
   "metadata": {},
   "source": [
    "与类C的布局相比，类F的布局性能更差，两个轴之间的差距很小，但是同样不像其他布局那样显著。结果表明，一般来说，类似C的布局表现更好--这也是**Numpy ndarray**对象没有指定的时候默认使用这种布局的原因。"
   ]
  },
  {
   "cell_type": "code",
   "execution_count": 56,
   "metadata": {
    "collapsed": true
   },
   "outputs": [],
   "source": [
    "C = 0.0\n",
    "F = 0.0"
   ]
  },
  {
   "cell_type": "markdown",
   "metadata": {},
   "source": [
    "## 8.3 并行计算\n",
    "### 8.3.1 蒙特卡洛算法\n",
    "期权的蒙特卡洛估值算法是导致高计算负担的金融算法之一。作为特例，我们选择Black-Scholes-Merton设置下的欧式看涨期权价值蒙特卡洛估算函数。\n",
    "\n",
    "如果我们值允许欧式看涨期权的行权价可变，实现Black-Scholes-Merton设置下蒙特卡洛估值的函数如下所示："
   ]
  },
  {
   "cell_type": "code",
   "execution_count": 57,
   "metadata": {
    "collapsed": true
   },
   "outputs": [],
   "source": [
    "def bsm_mcs_valuation(strike):\n",
    "    '''Dynamic Black-Scholes-Merton Monte Carlo estimator for European calls.\n",
    "    \n",
    "    Parameters\n",
    "    ==========\n",
    "    strike : float\n",
    "        strike price of the option\n",
    "    Results\n",
    "    =======\n",
    "    value : float\n",
    "        estimate for present value of call option\n",
    "    '''\n",
    "    import numpy as np\n",
    "    S0 = 100.;T = 1.0;r = 0.05;vola = 0.2\n",
    "    M = 50;I = 20000\n",
    "    dt = T / M\n",
    "    rand = np.random.standard_normal((M+1,I))\n",
    "    S = np.zeros((M + 1,I))\n",
    "    S[0] = S0\n",
    "    for t in range(1,M+1):\n",
    "        S[t] = S[t-1]*np.exp((r-0.5 * vola ** 2)*dt + vola*np.sqrt(dt)*rand[t])\n",
    "    value = (np.exp(-r*T)*np.sum(np.maximum(S[-1]-strike,0))/I)\n",
    "    return value"
   ]
  },
  {
   "cell_type": "markdown",
   "metadata": {},
   "source": [
    "### 8.3.2 顺序化计算\n",
    "作为基准用例，我们对不同行权价的100种期权进行估值。**seq_value**函数计算蒙特卡洛估算函数，返回包含行权价和估值结果的列表对象："
   ]
  },
  {
   "cell_type": "code",
   "execution_count": 60,
   "metadata": {
    "collapsed": true
   },
   "outputs": [],
   "source": [
    "def seq_value(n):\n",
    "    '''Sequential option caluation.\n",
    "    \n",
    "    Parameters\n",
    "    ==========\n",
    "    n : int\n",
    "        number of option valuations/strikes\n",
    "    '''\n",
    "    strikes = np.linspace(80,120,n)\n",
    "    option_values = []\n",
    "    for strike in strikes:\n",
    "        option_values.append(bsm_mcs_valuation(strike))\n",
    "    return strikes,option_values"
   ]
  },
  {
   "cell_type": "code",
   "execution_count": 97,
   "metadata": {},
   "outputs": [
    {
     "name": "stdout",
     "output_type": "stream",
     "text": [
      "Wall time: 9.48 s\n"
     ]
    }
   ],
   "source": [
    "n = 100\n",
    "%time strikes,option_values_seq = seq_value(n)"
   ]
  },
  {
   "cell_type": "code",
   "execution_count": 62,
   "metadata": {},
   "outputs": [
    {
     "data": {
      "text/plain": [
       "Text(0,0.5,u'European call option values')"
      ]
     },
     "execution_count": 62,
     "metadata": {},
     "output_type": "execute_result"
    },
    {
     "data": {
      "image/png": "[encoded data removed]",
      "text/plain": [
       "<matplotlib.figure.Figure at 0x1571c438>"
      ]
     },
     "metadata": {},
     "output_type": "display_data"
    }
   ],
   "source": [
    "import matplotlib.pyplot as plt\n",
    "%matplotlib inline\n",
    "plt.figure(figsize = (8,4))\n",
    "plt.plot(strikes,option_values_seq,'b')\n",
    "plt.plot(strikes,option_values_seq,'r.')\n",
    "plt.grid(True)\n",
    "plt.xlabel('strikes')\n",
    "plt.ylabel('European call option values')"
   ]
  },
  {
   "cell_type": "markdown",
   "metadata": {},
   "source": [
    "### 8.3.3 并行计算\n",
    "为了并行计算100个权证价值，我们使用**IPython。parallel**和一个本地“群集”。本地群集很容易通过**IPython Notebook**仪表盘中的**Clusters**选项卡启动。使用的线程数量当然取决于运行代码的机器和处理器。\n",
    "\n",
    "**IPython.parallel**需要哪个集群用于代码并行执行的相关信息。在本例中，集群配置文件保存在“default”（默认）配置文件中。此外，我们需要在群集上生成一个视图："
   ]
  },
  {
   "cell_type": "code",
   "execution_count": 72,
   "metadata": {},
   "outputs": [],
   "source": [
    "#from IPython.parallel import Client\n",
    "from ipyparallel import Client\n",
    "c = Client(profile=\"default\")\n",
    "view = c.load_balanced_view()"
   ]
  },
  {
   "cell_type": "code",
   "execution_count": 73,
   "metadata": {
    "collapsed": true
   },
   "outputs": [],
   "source": [
    "def par_value(n):\n",
    "    '''Parallel option caluation.\n",
    "    \n",
    "    Parameters\n",
    "    ==========\n",
    "    n : int\n",
    "        number of option valuations/strikes\n",
    "    '''\n",
    "    strikes = np.linspace(80,120,n)\n",
    "    option_values = []\n",
    "    for strike in strikes:\n",
    "        value = view.apply_async(bsm_mcs_valuation,strike)\n",
    "        option_values.append(value)\n",
    "    c.wait(option_values)\n",
    "    return strikes,option_values"
   ]
  },
  {
   "cell_type": "markdown",
   "metadata": {},
   "source": [
    "有两个主要的不同之处需要注意。首先是估值函数通过**view.apply_sync**异步应用到群集视图，这实际上一次性初始化所有期权的并行估值。当然，不是所有期权都可以并行估值，因为（一般）没有足够的核心/线程可用。因此，我们必须等待，知道队列完全结束；这由**Client**对象c的**wait**方法实现。当所有结果可用时，该函数返回，和以前一样，列表对象分别包含行权价和估值结果。\n",
    "\n",
    "并行估值函数的执行效率在理想的情况下和可用核心（线程）数量呈线性关系。例如，拥有8个可用核心（线程）最多可以将执行时间降低到顺序化计算所需时间的1/8："
   ]
  },
  {
   "cell_type": "code",
   "execution_count": 74,
   "metadata": {},
   "outputs": [
    {
     "name": "stdout",
     "output_type": "stream",
     "text": [
      "Wall time: 14.1 s\n"
     ]
    }
   ],
   "source": [
    "%time strikes,option_values_obj = par_value(n)"
   ]
  },
  {
   "cell_type": "markdown",
   "metadata": {},
   "source": [
    "并行执行不会直接返回期权价值；而是返回更复杂的结果对象："
   ]
  },
  {
   "cell_type": "code",
   "execution_count": 75,
   "metadata": {},
   "outputs": [
    {
     "data": {
      "text/plain": [
       "{'after': [],\n",
       " 'completed': datetime.datetime(2017, 12, 17, 11, 19, 17, 211000, tzinfo=tzutc()),\n",
       " 'data': {},\n",
       " 'engine_id': 0,\n",
       " 'engine_uuid': u'9f10bea1-a50dc41040f4216626bcc34d',\n",
       " 'error': None,\n",
       " 'execute_input': None,\n",
       " 'execute_result': None,\n",
       " 'follow': [],\n",
       " 'msg_id': u'9f5ce691-4667ec7167531d60766b1238',\n",
       " 'outputs': [],\n",
       " 'received': datetime.datetime(2017, 12, 17, 11, 19, 17, 240000, tzinfo=tzutc()),\n",
       " 'started': datetime.datetime(2017, 12, 17, 11, 19, 12, 294000, tzinfo=tzutc()),\n",
       " 'status': u'ok',\n",
       " 'stderr': '',\n",
       " 'stdout': '',\n",
       " 'submitted': datetime.datetime(2017, 12, 17, 11, 19, 12, 228000, tzinfo=tzutc())}"
      ]
     },
     "execution_count": 75,
     "metadata": {},
     "output_type": "execute_result"
    }
   ],
   "source": [
    "option_values_obj[0].metadata"
   ]
  },
  {
   "cell_type": "markdown",
   "metadata": {},
   "source": [
    "估值结果本身保存在对象的result属性中："
   ]
  },
  {
   "cell_type": "code",
   "execution_count": 79,
   "metadata": {},
   "outputs": [
    {
     "data": {
      "text/plain": [
       "<bound method AsyncResult.result of <AsyncResult: bsm_mcs_valuation:finished>>"
      ]
     },
     "execution_count": 79,
     "metadata": {},
     "output_type": "execute_result"
    }
   ],
   "source": [
    "option_values_obj[0].result"
   ]
  },
  {
   "cell_type": "markdown",
   "metadata": {},
   "source": [
    "为了生成和顺序化计算相同的结果列表，我们必须从返回对象中读出单个结果："
   ]
  },
  {
   "cell_type": "code",
   "execution_count": 80,
   "metadata": {
    "collapsed": true
   },
   "outputs": [],
   "source": [
    "option_values_par = []\n",
    "for res in option_values_obj:\n",
    "    option_values_par.append(res.result)"
   ]
  },
  {
   "cell_type": "raw",
   "metadata": {},
   "source": [
    "当然上述工作可以在并行估值循环中直接完成，下图比较了顺序化计算的估值结果和并行计算的结果。其中的差异时因为与蒙特卡洛估值相关的数值化问题："
   ]
  },
  {
   "cell_type": "raw",
   "metadata": {},
   "source": [
    "plt.figure(figsize=(8,4))\n",
    "plt.plot(strikes,option_values_seq,'b',label='Sequential')\n",
    "plt.plot(strikes,option_values_par,'r.')\n",
    "plt.grid(True)\n",
    "plt.legend(loc=0)\n",
    "plt.xlabel('strikes')\n",
    "plt.ylabel('European call option values')"
   ]
  },
  {
   "cell_type": "markdown",
   "metadata": {},
   "source": [
    "### 8.3.4 性能比较"
   ]
  },
  {
   "cell_type": "code",
   "execution_count": 101,
   "metadata": {
    "collapsed": true
   },
   "outputs": [],
   "source": [
    "n = 50 # number of option valuations\n",
    "func_list = ['seq_value','par_value']\n",
    "data_list = 2*['n']"
   ]
  },
  {
   "cell_type": "code",
   "execution_count": 102,
   "metadata": {},
   "outputs": [
    {
     "name": "stdout",
     "output_type": "stream",
     "text": [
      "function: par_value,av.time sec:  4.37065, relative:    1.0\n",
      "function: seq_value,av.time sec:  4.78851, relative:    1.1\n"
     ]
    }
   ],
   "source": [
    "perf_comp_data(func_list,data_list)"
   ]
  },
  {
   "cell_type": "markdown",
   "metadata": {},
   "source": [
    "## 8.4 多处理"
   ]
  },
  {
   "cell_type": "markdown",
   "metadata": {},
   "source": [
    "\n",
    "\n",
    "\n",
    "## 8.5 动态编译\n",
    "### 8.5.1 介绍性示例\n",
    "### 8.5.2 二项式期权定价方法\n",
    "## 8.6 用Cython进行静态编译\n",
    "## 8.7 在GPU上生成随机数\n",
    "## 8.8 结语\n",
    "## 8.9 延伸阅读"
   ]
  }
 ],
 "metadata": {
  "kernelspec": {
   "display_name": "Python 2",
   "language": "python",
   "name": "python2"
  },
  "language_info": {
   "codemirror_mode": {
    "name": "ipython",
    "version": 2
   },
   "file_extension": ".py",
   "mimetype": "text/x-python",
   "name": "python",
   "nbconvert_exporter": "python",
   "pygments_lexer": "ipython2",
   "version": "2.7.14"
  }
 },
 "nbformat": 4,
 "nbformat_minor": 2
}
