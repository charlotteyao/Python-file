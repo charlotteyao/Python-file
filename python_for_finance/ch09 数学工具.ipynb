{
 "cells": [
  {
   "cell_type": "markdown",
   "metadata": {},
   "source": [
    "# 数学工具\n",
    "## 9.1 逼近法\n",
    "### 9.1.1 回归\n",
    "### 9.1.2 插值\n",
    "## 9.2 凸优化\n",
    "### 9.2.1 全局优化\n",
    "### 9.2.2 局部优化\n",
    "### 9.2.3 有约束优化\n",
    "## 9.3 积分\n",
    "### 9.3.1 数值积分\n",
    "### 9.3.2 通过模拟求取积分\n",
    "## 9.4 符号计算\n",
    "### 9.4.1 基本知识\n",
    "### 9.4.2 方程式\n",
    "### 9.4.3 积分\n",
    "### 9.4.4 微分\n",
    "## 9.5 结语\n",
    "## 9.6 延伸阅读"
   ]
  },
  {
   "cell_type": "code",
   "execution_count": null,
   "metadata": {
    "collapsed": true
   },
   "outputs": [],
   "source": []
  }
 ],
 "metadata": {
  "kernelspec": {
   "display_name": "Python 2",
   "language": "python",
   "name": "python2"
  },
  "language_info": {
   "codemirror_mode": {
    "name": "ipython",
    "version": 2
   },
   "file_extension": ".py",
   "mimetype": "text/x-python",
   "name": "python",
   "nbconvert_exporter": "python",
   "pygments_lexer": "ipython2",
   "version": "2.7.14"
  }
 },
 "nbformat": 4,
 "nbformat_minor": 2
}
